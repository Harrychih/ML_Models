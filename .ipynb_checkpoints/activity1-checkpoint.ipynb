{
 "cells": [
  {
   "cell_type": "markdown",
   "id": "1a67f85d-6cac-47aa-ab01-3bb1654d7099",
   "metadata": {},
   "source": [
    "###  Activity 1: All Possible Regressions\n",
    "\n",
    "This is a quick assignment.  I would expect it to only take a couple of hours to complete. The start of this notebook develops the example.  You will then parallelize the exammple using `joblib`. \n",
    "\n",
    "Run this on a machine that has at least 4 cores. Typically this is your laptop. The ugrad machines are also OK. Google Colab is not adequate. Fill out the requested cells toward the bottom of the notebook.\n",
    "\n",
    "**Due date**: September 16 1, 2022, 5:00 pm EDT.\n",
    "\n",
    "**Instructions for Submission**: Submit via Gradescope.\n",
    "\n",
    "#### Preparing the Environment\n",
    "\n",
    "You will need a couple of packages installed to make this work.  Stop your instance of jupyter lab and then run\n",
    "\n",
    "```\n",
    "conda install pandas pandoc\n",
    "jupyter lab\n",
    "```\n",
    "At this point, you should be ready to go.\n",
    "\n",
    "#### Example code\n",
    "\n",
    "This is a Python reimplementation of the Section 3.4. in _Matloff_, Parallel Computing for Data Science. It is based on data from https://www.kaggle.com/divan0/multiple-linear-regression. The notebook asks the question what combination of variables best predict the price of a house.\n",
    "\n",
    "#### Discussed with Yanjie Qi(yanjie@jhu.edu) at high level"
   ]
  },
  {
   "cell_type": "code",
   "execution_count": 13,
   "id": "a9525a93-0b4e-4a25-bf87-d4335132cffc",
   "metadata": {},
   "outputs": [
    {
     "data": {
      "text/html": [
       "<div>\n",
       "<style scoped>\n",
       "    .dataframe tbody tr th:only-of-type {\n",
       "        vertical-align: middle;\n",
       "    }\n",
       "\n",
       "    .dataframe tbody tr th {\n",
       "        vertical-align: top;\n",
       "    }\n",
       "\n",
       "    .dataframe thead th {\n",
       "        text-align: right;\n",
       "    }\n",
       "</style>\n",
       "<table border=\"1\" class=\"dataframe\">\n",
       "  <thead>\n",
       "    <tr style=\"text-align: right;\">\n",
       "      <th></th>\n",
       "      <th>id</th>\n",
       "      <th>date</th>\n",
       "      <th>price</th>\n",
       "      <th>bedrooms</th>\n",
       "      <th>bathrooms</th>\n",
       "      <th>sqft_living</th>\n",
       "      <th>sqft_lot</th>\n",
       "      <th>floors</th>\n",
       "      <th>waterfront</th>\n",
       "      <th>view</th>\n",
       "      <th>...</th>\n",
       "      <th>grade</th>\n",
       "      <th>sqft_above</th>\n",
       "      <th>sqft_basement</th>\n",
       "      <th>yr_built</th>\n",
       "      <th>yr_renovated</th>\n",
       "      <th>zipcode</th>\n",
       "      <th>lat</th>\n",
       "      <th>long</th>\n",
       "      <th>sqft_living15</th>\n",
       "      <th>sqft_lot15</th>\n",
       "    </tr>\n",
       "  </thead>\n",
       "  <tbody>\n",
       "    <tr>\n",
       "      <th>0</th>\n",
       "      <td>7129300520</td>\n",
       "      <td>20141013T000000</td>\n",
       "      <td>221900.0</td>\n",
       "      <td>3</td>\n",
       "      <td>1.00</td>\n",
       "      <td>1180</td>\n",
       "      <td>5650</td>\n",
       "      <td>1.0</td>\n",
       "      <td>0</td>\n",
       "      <td>0</td>\n",
       "      <td>...</td>\n",
       "      <td>7</td>\n",
       "      <td>1180.0</td>\n",
       "      <td>0</td>\n",
       "      <td>1955</td>\n",
       "      <td>0</td>\n",
       "      <td>98178</td>\n",
       "      <td>47.5112</td>\n",
       "      <td>-122.257</td>\n",
       "      <td>1340</td>\n",
       "      <td>5650</td>\n",
       "    </tr>\n",
       "    <tr>\n",
       "      <th>1</th>\n",
       "      <td>6414100192</td>\n",
       "      <td>20141209T000000</td>\n",
       "      <td>538000.0</td>\n",
       "      <td>3</td>\n",
       "      <td>2.25</td>\n",
       "      <td>2570</td>\n",
       "      <td>7242</td>\n",
       "      <td>2.0</td>\n",
       "      <td>0</td>\n",
       "      <td>0</td>\n",
       "      <td>...</td>\n",
       "      <td>7</td>\n",
       "      <td>2170.0</td>\n",
       "      <td>400</td>\n",
       "      <td>1951</td>\n",
       "      <td>1991</td>\n",
       "      <td>98125</td>\n",
       "      <td>47.7210</td>\n",
       "      <td>-122.319</td>\n",
       "      <td>1690</td>\n",
       "      <td>7639</td>\n",
       "    </tr>\n",
       "    <tr>\n",
       "      <th>2</th>\n",
       "      <td>5631500400</td>\n",
       "      <td>20150225T000000</td>\n",
       "      <td>180000.0</td>\n",
       "      <td>2</td>\n",
       "      <td>1.00</td>\n",
       "      <td>770</td>\n",
       "      <td>10000</td>\n",
       "      <td>1.0</td>\n",
       "      <td>0</td>\n",
       "      <td>0</td>\n",
       "      <td>...</td>\n",
       "      <td>6</td>\n",
       "      <td>770.0</td>\n",
       "      <td>0</td>\n",
       "      <td>1933</td>\n",
       "      <td>0</td>\n",
       "      <td>98028</td>\n",
       "      <td>47.7379</td>\n",
       "      <td>-122.233</td>\n",
       "      <td>2720</td>\n",
       "      <td>8062</td>\n",
       "    </tr>\n",
       "    <tr>\n",
       "      <th>3</th>\n",
       "      <td>2487200875</td>\n",
       "      <td>20141209T000000</td>\n",
       "      <td>604000.0</td>\n",
       "      <td>4</td>\n",
       "      <td>3.00</td>\n",
       "      <td>1960</td>\n",
       "      <td>5000</td>\n",
       "      <td>1.0</td>\n",
       "      <td>0</td>\n",
       "      <td>0</td>\n",
       "      <td>...</td>\n",
       "      <td>7</td>\n",
       "      <td>1050.0</td>\n",
       "      <td>910</td>\n",
       "      <td>1965</td>\n",
       "      <td>0</td>\n",
       "      <td>98136</td>\n",
       "      <td>47.5208</td>\n",
       "      <td>-122.393</td>\n",
       "      <td>1360</td>\n",
       "      <td>5000</td>\n",
       "    </tr>\n",
       "    <tr>\n",
       "      <th>4</th>\n",
       "      <td>1954400510</td>\n",
       "      <td>20150218T000000</td>\n",
       "      <td>510000.0</td>\n",
       "      <td>3</td>\n",
       "      <td>2.00</td>\n",
       "      <td>1680</td>\n",
       "      <td>8080</td>\n",
       "      <td>1.0</td>\n",
       "      <td>0</td>\n",
       "      <td>0</td>\n",
       "      <td>...</td>\n",
       "      <td>8</td>\n",
       "      <td>1680.0</td>\n",
       "      <td>0</td>\n",
       "      <td>1987</td>\n",
       "      <td>0</td>\n",
       "      <td>98074</td>\n",
       "      <td>47.6168</td>\n",
       "      <td>-122.045</td>\n",
       "      <td>1800</td>\n",
       "      <td>7503</td>\n",
       "    </tr>\n",
       "  </tbody>\n",
       "</table>\n",
       "<p>5 rows × 21 columns</p>\n",
       "</div>"
      ],
      "text/plain": [
       "           id             date     price  bedrooms  bathrooms  sqft_living  \\\n",
       "0  7129300520  20141013T000000  221900.0         3       1.00         1180   \n",
       "1  6414100192  20141209T000000  538000.0         3       2.25         2570   \n",
       "2  5631500400  20150225T000000  180000.0         2       1.00          770   \n",
       "3  2487200875  20141209T000000  604000.0         4       3.00         1960   \n",
       "4  1954400510  20150218T000000  510000.0         3       2.00         1680   \n",
       "\n",
       "   sqft_lot  floors  waterfront  view  ...  grade  sqft_above  sqft_basement  \\\n",
       "0      5650     1.0           0     0  ...      7      1180.0              0   \n",
       "1      7242     2.0           0     0  ...      7      2170.0            400   \n",
       "2     10000     1.0           0     0  ...      6       770.0              0   \n",
       "3      5000     1.0           0     0  ...      7      1050.0            910   \n",
       "4      8080     1.0           0     0  ...      8      1680.0              0   \n",
       "\n",
       "   yr_built  yr_renovated  zipcode      lat     long  sqft_living15  \\\n",
       "0      1955             0    98178  47.5112 -122.257           1340   \n",
       "1      1951          1991    98125  47.7210 -122.319           1690   \n",
       "2      1933             0    98028  47.7379 -122.233           2720   \n",
       "3      1965             0    98136  47.5208 -122.393           1360   \n",
       "4      1987             0    98074  47.6168 -122.045           1800   \n",
       "\n",
       "   sqft_lot15  \n",
       "0        5650  \n",
       "1        7639  \n",
       "2        8062  \n",
       "3        5000  \n",
       "4        7503  \n",
       "\n",
       "[5 rows x 21 columns]"
      ]
     },
     "execution_count": 13,
     "metadata": {},
     "output_type": "execute_result"
    }
   ],
   "source": [
    "import numpy as np\n",
    "import matplotlib.pyplot as plt\n",
    "import pandas as pd\n",
    "\n",
    "%matplotlib inline\n",
    "\n",
    "#importing dataset using panda\n",
    "dataset = pd.read_csv('../data/kc_house_data.csv')\n",
    "#to see what my dataset is comprised ofw\n",
    "dataset.head()"
   ]
  },
  {
   "cell_type": "code",
   "execution_count": 14,
   "id": "06ad55ee-ba79-4673-b693-ebca04f1bb77",
   "metadata": {},
   "outputs": [],
   "source": [
    "#dropping the id and date column\n",
    "dataset = dataset.drop(['id','date'], axis = 1)\n",
    "\n",
    "# clean out NaN and inf values\n",
    "dataset = dataset[~dataset.isin([np.nan, np.inf, -np.inf]).any(1)]"
   ]
  },
  {
   "cell_type": "markdown",
   "id": "f724288c-e17e-46a4-939b-c5ec0fc34a3b",
   "metadata": {},
   "source": [
    "Let's first do a simple regression. How does square footage predict price? "
   ]
  },
  {
   "cell_type": "code",
   "execution_count": 15,
   "id": "cbd8b494-d600-4bc9-9af7-15bef7796fb5",
   "metadata": {},
   "outputs": [
    {
     "name": "stdout",
     "output_type": "stream",
     "text": [
      "coefficient of determination: 0.4928817196006995\n"
     ]
    }
   ],
   "source": [
    "from sklearn.linear_model import LinearRegression\n",
    "\n",
    "X = np.array(dataset.sqft_living)\n",
    "Y = np.array(dataset.price)\n",
    "\n",
    "# shape X into matrix of a single column\n",
    "X = X.reshape((X.shape[0],1))\n",
    "\n",
    "model = LinearRegression()\n",
    "model.fit(X,Y)\n",
    "r_sq = model.score(X,Y)\n",
    "print('coefficient of determination:', r_sq)"
   ]
  },
  {
   "cell_type": "code",
   "execution_count": 16,
   "id": "97519567-fe0a-439e-a7e7-d97e4d56dea7",
   "metadata": {},
   "outputs": [
    {
     "data": {
      "image/png": "[encoded data removed]",
      "text/plain": [
       "<Figure size 640x480 with 1 Axes>"
      ]
     },
     "metadata": {},
     "output_type": "display_data"
    }
   ],
   "source": [
    "%matplotlib inline\n",
    "import matplotlib.pyplot as plt\n",
    "\n",
    "# scatter data\n",
    "plt.plot(X,Y,'o')\n",
    "# best fit line\n",
    "y_pred = model.intercept_ + model.coef_ * X\n",
    "plt.plot(X, y_pred, color='red', linewidth=3)\n",
    "\n",
    "plt.xticks(())\n",
    "plt.yticks(())\n",
    "\n",
    "plt.show()"
   ]
  },
  {
   "cell_type": "markdown",
   "id": "c639cbb5-6bdd-4032-812a-5bf8e0174833",
   "metadata": {},
   "source": [
    "We see that there is a strong correlation between square footage and house price.  The coefficient of determination measures the strength of the correlation and varies between 0 (no correlation) and 1.0 (perfectly correlated)."
   ]
  },
  {
   "cell_type": "markdown",
   "id": "0e2d9af2-3882-4c1d-9f58-038567ffd5ac",
   "metadata": {},
   "source": [
    "### Multiple Linear Regression\n",
    "\n",
    "Adding more variables often improves the score."
   ]
  },
  {
   "cell_type": "code",
   "execution_count": 17,
   "id": "fccb721f-db9f-4c58-ad3b-d7ed629791a2",
   "metadata": {},
   "outputs": [
    {
     "name": "stdout",
     "output_type": "stream",
     "text": [
      "coefficient of determination: 0.5249639858277426\n"
     ]
    }
   ],
   "source": [
    "X = np.array(dataset[['sqft_living','condition','yr_built']])\n",
    "Y = np.array(dataset.price)\n",
    "\n",
    "# shape X into matrix of a single column\n",
    "X = X.reshape((X.shape[0],3))\n",
    "\n",
    "model = LinearRegression()\n",
    "model.fit(X,Y)\n",
    "r_sq = model.score(X,Y)\n",
    "print('coefficient of determination:', r_sq)"
   ]
  },
  {
   "cell_type": "markdown",
   "id": "e900ab88-873c-4290-9d99-723cef811c6d",
   "metadata": {},
   "source": [
    "but some variables are confounding"
   ]
  },
  {
   "cell_type": "code",
   "execution_count": 18,
   "id": "ff60bd53-6ebc-4f13-8c78-5e81992aebd4",
   "metadata": {},
   "outputs": [
    {
     "name": "stdout",
     "output_type": "stream",
     "text": [
      "coefficient of determination: 0.1358874997770878\n"
     ]
    }
   ],
   "source": [
    "X = np.array(dataset[['zipcode','floors','waterfront']])\n",
    "Y = np.array(dataset.price)\n",
    "\n",
    "# shape X into matrix of a single column\n",
    "X = X.reshape((X.shape[0],3))\n",
    "\n",
    "model = LinearRegression()\n",
    "model.fit(X,Y)\n",
    "r_sq = model.score(X,Y)\n",
    "print('coefficient of determination:', r_sq)"
   ]
  },
  {
   "cell_type": "markdown",
   "id": "1d948a45-a861-423a-b2ce-8fcf1bf976c3",
   "metadata": {},
   "source": [
    "This leads to a first parallel program.  What are the right set of variables? A brute force approach called _All Possible Regressions_ examines all combinations. So, let's build a big matrix that and we will regress on subsets.  We will look at all combinations of 1, 2, or 3 variables."
   ]
  },
  {
   "cell_type": "code",
   "execution_count": 19,
   "id": "615005bd-f622-43a0-a844-c32f11e2676d",
   "metadata": {},
   "outputs": [],
   "source": [
    "from itertools import combinations, chain\n",
    "\n",
    "Y = np.array(dataset.price)\n",
    "X = np.array(dataset.drop(['price'], axis=1))\n",
    "\n",
    "## Let's choose all combinations of 1, 2, and 3 columns.\n",
    "col_idxs = np.array(range(X.shape[1]))\n",
    "combos = list(chain(combinations(col_idxs, 1), combinations(col_idxs, 2), combinations(col_idxs, 3)))"
   ]
  },
  {
   "cell_type": "code",
   "execution_count": 20,
   "id": "bc919ff9-24aa-4a9b-a4ee-efc84f8b51d9",
   "metadata": {},
   "outputs": [
    {
     "name": "stdout",
     "output_type": "stream",
     "text": [
      "0.6095149101819037 (2, 6, 14)\n"
     ]
    }
   ],
   "source": [
    "model = LinearRegression()\n",
    "\n",
    "# do in a for loop (dumbest way)\n",
    "r_sq_best = 0.0\n",
    "for combo in combos:\n",
    "    Xp = X[:,combo]\n",
    "    model = model.fit(Xp,Y)\n",
    "    r_sq = model.score(Xp,Y)\n",
    "    if r_sq > r_sq_best:\n",
    "        r_sq_best = r_sq\n",
    "        combo_best = combo\n",
    "    \n",
    "print(r_sq_best, combo_best)"
   ]
  },
  {
   "cell_type": "markdown",
   "id": "603e45b6-80e4-4c6c-9a2f-1e8a728b1e5b",
   "metadata": {},
   "source": [
    "The outcome is kind of crazy. The fields are `sqft-living`, `view`, and `latitude`. Latitude is probably a somewhat accurate proxy for wealth in this area, e.g. N of town richer than south of town. But, this is the kind of outcome that would not translate to other regions, i.e. is likely specific to this data.  _Neat_.\n",
    "\n",
    "Back to performance."
   ]
  },
  {
   "cell_type": "code",
   "execution_count": 21,
   "id": "0e8377d0-63a9-439c-be04-92d19f25e71c",
   "metadata": {},
   "outputs": [
    {
     "name": "stdout",
     "output_type": "stream",
     "text": [
      "1.72 s ± 16.9 ms per loop (mean ± std. dev. of 7 runs, 1 loop each)\n"
     ]
    }
   ],
   "source": [
    "%%timeit\n",
    "model = LinearRegression()\n",
    "\n",
    "r_sq_best = 0.0\n",
    "for combo in combos:\n",
    "    Xp = X[:,combo]\n",
    "    model = model.fit(Xp,Y)\n",
    "    r_sq = model.score(Xp,Y)\n",
    "    if r_sq > r_sq_best:\n",
    "        r_sq_best = r_sq\n",
    "        combo_best = combo"
   ]
  },
  {
   "cell_type": "markdown",
   "id": "9f8f2fb1-6df7-4902-9e5a-ed4ccfc231a1",
   "metadata": {},
   "source": [
    "Let's see if flattening the loop matters. Replace for loop with a list comprehension of all combination of variables."
   ]
  },
  {
   "cell_type": "code",
   "execution_count": 22,
   "id": "7993f4bd-6331-42f5-b909-31c6f1b659cf",
   "metadata": {},
   "outputs": [],
   "source": [
    "def r_sq_regression (combo):\n",
    "    Xp = X[:,combo]\n",
    "    model = LinearRegression()\n",
    "    model = model.fit(Xp,Y)\n",
    "    return model.score(Xp,Y)"
   ]
  },
  {
   "cell_type": "code",
   "execution_count": 11,
   "id": "96184a66-012a-4068-a462-677fcafb2ba7",
   "metadata": {},
   "outputs": [
    {
     "name": "stdout",
     "output_type": "stream",
     "text": [
      "[(2, 6, 14) 0.6095149101819037]\n"
     ]
    }
   ],
   "source": [
    "r_sq_list = [ (combo, r_sq_regression(combo)) for combo in combos ]\n",
    "r_sq_arr = np.array(r_sq_list, dtype=object)\n",
    "r_sq_idx = np.argmax(r_sq_arr[:,1])\n",
    "print(r_sq_arr[r_sq_idx])"
   ]
  },
  {
   "cell_type": "code",
   "execution_count": 53,
   "id": "efbf14c0-c47c-4b51-aed3-cde5f1b9af7e",
   "metadata": {},
   "outputs": [
    {
     "name": "stdout",
     "output_type": "stream",
     "text": [
      "1.58 s ± 35 ms per loop (mean ± std. dev. of 7 runs, 1 loop each)\n"
     ]
    }
   ],
   "source": [
    "%%timeit\n",
    "r_sq_list = [ (combo, r_sq_regression(combo)) for combo in combos ]\n",
    "r_sq_arr = np.array(r_sq_list, dtype=object)\n",
    "r_sq_idx = np.argmax(r_sq_arr[:,1])"
   ]
  },
  {
   "cell_type": "markdown",
   "id": "e3298cb7-ab53-4a34-8442-883faa04a8ab",
   "metadata": {},
   "source": [
    "It didn't seem to help. But, this is a step toward parallelization.\n",
    "\n",
    "### Exercise (This is the assignment)\n",
    "\n",
    "1. Use `joblib.Parallel` and `joblib.delayed` to parallelize the computation of the calls to `r_sq_regression`. \n",
    "    1. In one cell, print the answer to verifrom joblib import Parallel, delayed\n",
    "partials = Parallel(n_jobs=8)(delayed(inner_loop)(i) for i in range(gmat.shape[0]))fy that your parallel program is correct.\n",
    "    2. In another cell time the computation. What is the speedup at `n_jobs=4`?\n",
    "    3. Estimate the Amdahl number for this computation. Show your work."
   ]
  },
  {
   "cell_type": "code",
   "execution_count": 23,
   "id": "66c570c2-e5c1-462e-b2ae-000ea89fcd8f",
   "metadata": {},
   "outputs": [],
   "source": [
    "# Import library\n",
    "from joblib import Parallel, delayed"
   ]
  },
  {
   "cell_type": "code",
   "execution_count": 62,
   "id": "d1194559-1102-4978-bc80-a4911dddf37f",
   "metadata": {},
   "outputs": [
    {
     "name": "stdout",
     "output_type": "stream",
     "text": [
      "1.11 s ± 23.7 ms per loop (mean ± std. dev. of 7 runs, 1 loop each)\n"
     ]
    }
   ],
   "source": [
    "%%timeit\n",
    "# TODO code for 1A\n",
    "r_sq_list_1A = Parallel(n_jobs=8)(delayed(lambda combo : (combo, r_sq_regression(combo)))(combo) for combo in combos)\n",
    "r_sq_arr_1A = np.array(r_sq_list_1A, dtype=object)\n",
    "r_sq_idx_1A = np.argmax(r_sq_arr_1A[:,1])"
   ]
  },
  {
   "cell_type": "code",
   "execution_count": 61,
   "id": "3643a3bb-383c-4da9-aa94-e2f35e9b67ad",
   "metadata": {},
   "outputs": [
    {
     "name": "stdout",
     "output_type": "stream",
     "text": [
      "1.2 s ± 14.5 ms per loop (mean ± std. dev. of 7 runs, 1 loop each)\n"
     ]
    }
   ],
   "source": [
    "%%timeit \n",
    "# TODO code for 1B \n",
    "r_sq_list_1A = Parallel(n_jobs=4)(delayed(lambda combo : (combo, r_sq_regression(combo)))(combo) for combo in combos)\n",
    "r_sq_arr_1A = np.array(r_sq_list_1A, dtype=object)\n",
    "r_sq_idx_1A = np.argmax(r_sq_arr_1A[:,1])"
   ]
  },
  {
   "cell_type": "markdown",
   "id": "ed98d844-2cb4-4760-928d-bc2511399d9d",
   "metadata": {},
   "source": [
    "**TODO Answer for 1C**\n",
    "\n",
    "> $Speedup(4cores) = \\frac{T(1)}{T(4)} = \\frac{1.58}{1.2} = \\frac{79}{60} \\approxeq 1.3167$\n",
    "\n",
    "> $AmdahlNumber = \\frac{processors}{processors-1} \\times (1-\\frac{1}{Speedup}) = \\frac{4}{4-1} \\times (1-\\frac{1}{1.3167}) \\approxeq 0.321 $\n",
    "\n",
    "> However, I expected the Amdahl Number for this to be over 0.9 as most portion of the code is executed parallely, but the result could be affected due to the fact that I'm on a Mac M1 Chip.\n"
   ]
  },
  {
   "cell_type": "markdown",
   "id": "ec4d94a2-fb3d-4d04-a315-6c913e677fad",
   "metadata": {},
   "source": [
    "2. Use the batch size parameter to vary the number of jobs in each batch from 1,2,...128 @ n_jobs=4. You will need to look at the joblib documentation to read up about batch size.\n",
    "   1. Plot your results (use %timeit -o to capture output)\n",
    "   2. Model the problem as having two performance components: a fixed startup cost per batch ($C_B$) and perfect parallelism.  Estimate the batch startup cost (give a range).\n",
    "   3. Your answer to the batch startup costs should be noisy, i.e. there is not a consistent estimate for startup costs across all batch sizes. This indicates that a fixed startup cost per batch is not a good model. Consider other startup costs, such as skew, interference, and startup costs (per job). What do you think is a reasonable explanation for the inefficiency? What factors are possible?  Which factors can you eliminate?"
   ]
  },
  {
   "cell_type": "code",
   "execution_count": 78,
   "id": "0ebbd6e8-16ae-4a89-bed8-05f10bda3f17",
   "metadata": {},
   "outputs": [
    {
     "name": "stdout",
     "output_type": "stream",
     "text": [
      "1.53 s ± 75.9 ms per loop (mean ± std. dev. of 7 runs, 1 loop each)\n",
      "1.38 s ± 46.8 ms per loop (mean ± std. dev. of 7 runs, 1 loop each)\n",
      "1.33 s ± 35.6 ms per loop (mean ± std. dev. of 7 runs, 1 loop each)\n",
      "1.27 s ± 25.9 ms per loop (mean ± std. dev. of 7 runs, 1 loop each)\n",
      "1.24 s ± 15.1 ms per loop (mean ± std. dev. of 7 runs, 1 loop each)\n",
      "1.93 s ± 517 ms per loop (mean ± std. dev. of 7 runs, 1 loop each)\n",
      "1.3 s ± 197 ms per loop (mean ± std. dev. of 7 runs, 1 loop each)\n",
      "1.37 s ± 244 ms per loop (mean ± std. dev. of 7 runs, 1 loop each)\n",
      "1.3 s ± 193 ms per loop (mean ± std. dev. of 7 runs, 1 loop each)\n",
      "1.18 s ± 14.8 ms per loop (mean ± std. dev. of 7 runs, 1 loop each)\n",
      "1.21 s ± 61 ms per loop (mean ± std. dev. of 7 runs, 1 loop each)\n",
      "1.27 s ± 186 ms per loop (mean ± std. dev. of 7 runs, 1 loop each)\n",
      "1.42 s ± 306 ms per loop (mean ± std. dev. of 7 runs, 1 loop each)\n",
      "1.32 s ± 225 ms per loop (mean ± std. dev. of 7 runs, 1 loop each)\n",
      "1.17 s ± 8.77 ms per loop (mean ± std. dev. of 7 runs, 1 loop each)\n",
      "1.26 s ± 112 ms per loop (mean ± std. dev. of 7 runs, 1 loop each)\n",
      "1.16 s ± 2.9 ms per loop (mean ± std. dev. of 7 runs, 1 loop each)\n",
      "1.17 s ± 15.3 ms per loop (mean ± std. dev. of 7 runs, 1 loop each)\n",
      "1.23 s ± 52.3 ms per loop (mean ± std. dev. of 7 runs, 1 loop each)\n",
      "1.18 s ± 19.5 ms per loop (mean ± std. dev. of 7 runs, 1 loop each)\n",
      "1.18 s ± 13 ms per loop (mean ± std. dev. of 7 runs, 1 loop each)\n",
      "1.16 s ± 12.3 ms per loop (mean ± std. dev. of 7 runs, 1 loop each)\n",
      "1.18 s ± 13.8 ms per loop (mean ± std. dev. of 7 runs, 1 loop each)\n",
      "1.16 s ± 9.94 ms per loop (mean ± std. dev. of 7 runs, 1 loop each)\n",
      "1.19 s ± 11.7 ms per loop (mean ± std. dev. of 7 runs, 1 loop each)\n",
      "1.18 s ± 34.3 ms per loop (mean ± std. dev. of 7 runs, 1 loop each)\n",
      "1.17 s ± 18.6 ms per loop (mean ± std. dev. of 7 runs, 1 loop each)\n",
      "1.17 s ± 7.38 ms per loop (mean ± std. dev. of 7 runs, 1 loop each)\n",
      "1.17 s ± 13.4 ms per loop (mean ± std. dev. of 7 runs, 1 loop each)\n",
      "1.17 s ± 17.9 ms per loop (mean ± std. dev. of 7 runs, 1 loop each)\n",
      "1.18 s ± 9.97 ms per loop (mean ± std. dev. of 7 runs, 1 loop each)\n",
      "1.17 s ± 11.5 ms per loop (mean ± std. dev. of 7 runs, 1 loop each)\n",
      "1.17 s ± 7.18 ms per loop (mean ± std. dev. of 7 runs, 1 loop each)\n",
      "1.17 s ± 8 ms per loop (mean ± std. dev. of 7 runs, 1 loop each)\n",
      "1.17 s ± 9.89 ms per loop (mean ± std. dev. of 7 runs, 1 loop each)\n",
      "1.17 s ± 16.1 ms per loop (mean ± std. dev. of 7 runs, 1 loop each)\n",
      "1.16 s ± 3.64 ms per loop (mean ± std. dev. of 7 runs, 1 loop each)\n",
      "1.18 s ± 26.5 ms per loop (mean ± std. dev. of 7 runs, 1 loop each)\n",
      "1.17 s ± 3.66 ms per loop (mean ± std. dev. of 7 runs, 1 loop each)\n",
      "1.16 s ± 8.86 ms per loop (mean ± std. dev. of 7 runs, 1 loop each)\n",
      "1.18 s ± 15.7 ms per loop (mean ± std. dev. of 7 runs, 1 loop each)\n",
      "1.18 s ± 16.8 ms per loop (mean ± std. dev. of 7 runs, 1 loop each)\n",
      "1.18 s ± 7.93 ms per loop (mean ± std. dev. of 7 runs, 1 loop each)\n",
      "1.18 s ± 12.7 ms per loop (mean ± std. dev. of 7 runs, 1 loop each)\n",
      "1.19 s ± 27.2 ms per loop (mean ± std. dev. of 7 runs, 1 loop each)\n",
      "1.21 s ± 58.4 ms per loop (mean ± std. dev. of 7 runs, 1 loop each)\n",
      "1.18 s ± 23.1 ms per loop (mean ± std. dev. of 7 runs, 1 loop each)\n",
      "1.17 s ± 17.9 ms per loop (mean ± std. dev. of 7 runs, 1 loop each)\n",
      "1.17 s ± 9.53 ms per loop (mean ± std. dev. of 7 runs, 1 loop each)\n",
      "1.18 s ± 12.5 ms per loop (mean ± std. dev. of 7 runs, 1 loop each)\n",
      "1.16 s ± 11.8 ms per loop (mean ± std. dev. of 7 runs, 1 loop each)\n",
      "1.18 s ± 20.2 ms per loop (mean ± std. dev. of 7 runs, 1 loop each)\n",
      "1.17 s ± 16.8 ms per loop (mean ± std. dev. of 7 runs, 1 loop each)\n",
      "1.19 s ± 27.3 ms per loop (mean ± std. dev. of 7 runs, 1 loop each)\n",
      "1.17 s ± 14.2 ms per loop (mean ± std. dev. of 7 runs, 1 loop each)\n",
      "1.18 s ± 25.2 ms per loop (mean ± std. dev. of 7 runs, 1 loop each)\n",
      "1.19 s ± 10.6 ms per loop (mean ± std. dev. of 7 runs, 1 loop each)\n",
      "1.16 s ± 5.21 ms per loop (mean ± std. dev. of 7 runs, 1 loop each)\n",
      "1.16 s ± 15 ms per loop (mean ± std. dev. of 7 runs, 1 loop each)\n",
      "1.16 s ± 6.98 ms per loop (mean ± std. dev. of 7 runs, 1 loop each)\n",
      "1.15 s ± 10.7 ms per loop (mean ± std. dev. of 7 runs, 1 loop each)\n",
      "1.18 s ± 14.6 ms per loop (mean ± std. dev. of 7 runs, 1 loop each)\n",
      "1.28 s ± 104 ms per loop (mean ± std. dev. of 7 runs, 1 loop each)\n",
      "1.19 s ± 14.6 ms per loop (mean ± std. dev. of 7 runs, 1 loop each)\n",
      "1.19 s ± 18.2 ms per loop (mean ± std. dev. of 7 runs, 1 loop each)\n",
      "1.17 s ± 11.8 ms per loop (mean ± std. dev. of 7 runs, 1 loop each)\n",
      "1.17 s ± 11.6 ms per loop (mean ± std. dev. of 7 runs, 1 loop each)\n",
      "1.17 s ± 22.9 ms per loop (mean ± std. dev. of 7 runs, 1 loop each)\n",
      "1.16 s ± 6.55 ms per loop (mean ± std. dev. of 7 runs, 1 loop each)\n",
      "1.17 s ± 11.1 ms per loop (mean ± std. dev. of 7 runs, 1 loop each)\n",
      "1.16 s ± 3.8 ms per loop (mean ± std. dev. of 7 runs, 1 loop each)\n",
      "1.18 s ± 23.1 ms per loop (mean ± std. dev. of 7 runs, 1 loop each)\n",
      "1.17 s ± 8.04 ms per loop (mean ± std. dev. of 7 runs, 1 loop each)\n",
      "1.16 s ± 6.42 ms per loop (mean ± std. dev. of 7 runs, 1 loop each)\n",
      "1.18 s ± 18.6 ms per loop (mean ± std. dev. of 7 runs, 1 loop each)\n",
      "1.17 s ± 13.2 ms per loop (mean ± std. dev. of 7 runs, 1 loop each)\n",
      "1.17 s ± 7.9 ms per loop (mean ± std. dev. of 7 runs, 1 loop each)\n",
      "1.17 s ± 13.6 ms per loop (mean ± std. dev. of 7 runs, 1 loop each)\n",
      "1.16 s ± 5.65 ms per loop (mean ± std. dev. of 7 runs, 1 loop each)\n",
      "1.18 s ± 24.1 ms per loop (mean ± std. dev. of 7 runs, 1 loop each)\n",
      "1.16 s ± 9.28 ms per loop (mean ± std. dev. of 7 runs, 1 loop each)\n",
      "1.17 s ± 10.9 ms per loop (mean ± std. dev. of 7 runs, 1 loop each)\n",
      "1.17 s ± 12.6 ms per loop (mean ± std. dev. of 7 runs, 1 loop each)\n",
      "1.17 s ± 12.8 ms per loop (mean ± std. dev. of 7 runs, 1 loop each)\n",
      "1.22 s ± 66.7 ms per loop (mean ± std. dev. of 7 runs, 1 loop each)\n",
      "1.16 s ± 9.7 ms per loop (mean ± std. dev. of 7 runs, 1 loop each)\n",
      "1.16 s ± 8.99 ms per loop (mean ± std. dev. of 7 runs, 1 loop each)\n",
      "1.16 s ± 10.9 ms per loop (mean ± std. dev. of 7 runs, 1 loop each)\n",
      "1.17 s ± 7.77 ms per loop (mean ± std. dev. of 7 runs, 1 loop each)\n",
      "1.17 s ± 22.4 ms per loop (mean ± std. dev. of 7 runs, 1 loop each)\n",
      "1.21 s ± 66.5 ms per loop (mean ± std. dev. of 7 runs, 1 loop each)\n",
      "1.2 s ± 43.9 ms per loop (mean ± std. dev. of 7 runs, 1 loop each)\n",
      "1.17 s ± 12.7 ms per loop (mean ± std. dev. of 7 runs, 1 loop each)\n",
      "1.17 s ± 8.77 ms per loop (mean ± std. dev. of 7 runs, 1 loop each)\n",
      "1.16 s ± 8.85 ms per loop (mean ± std. dev. of 7 runs, 1 loop each)\n",
      "1.18 s ± 18.3 ms per loop (mean ± std. dev. of 7 runs, 1 loop each)\n",
      "1.18 s ± 39.2 ms per loop (mean ± std. dev. of 7 runs, 1 loop each)\n",
      "1.17 s ± 13.3 ms per loop (mean ± std. dev. of 7 runs, 1 loop each)\n",
      "1.16 s ± 4.61 ms per loop (mean ± std. dev. of 7 runs, 1 loop each)\n",
      "1.17 s ± 11.8 ms per loop (mean ± std. dev. of 7 runs, 1 loop each)\n",
      "1.16 s ± 13.4 ms per loop (mean ± std. dev. of 7 runs, 1 loop each)\n",
      "1.17 s ± 8.54 ms per loop (mean ± std. dev. of 7 runs, 1 loop each)\n",
      "1.16 s ± 12.2 ms per loop (mean ± std. dev. of 7 runs, 1 loop each)\n",
      "1.18 s ± 30.6 ms per loop (mean ± std. dev. of 7 runs, 1 loop each)\n",
      "1.19 s ± 27.9 ms per loop (mean ± std. dev. of 7 runs, 1 loop each)\n",
      "1.18 s ± 28.5 ms per loop (mean ± std. dev. of 7 runs, 1 loop each)\n",
      "1.17 s ± 12.2 ms per loop (mean ± std. dev. of 7 runs, 1 loop each)\n",
      "1.18 s ± 13.9 ms per loop (mean ± std. dev. of 7 runs, 1 loop each)\n",
      "1.17 s ± 12.4 ms per loop (mean ± std. dev. of 7 runs, 1 loop each)\n",
      "1.17 s ± 9.74 ms per loop (mean ± std. dev. of 7 runs, 1 loop each)\n",
      "1.17 s ± 7.46 ms per loop (mean ± std. dev. of 7 runs, 1 loop each)\n",
      "1.17 s ± 19.4 ms per loop (mean ± std. dev. of 7 runs, 1 loop each)\n",
      "1.18 s ± 19.7 ms per loop (mean ± std. dev. of 7 runs, 1 loop each)\n",
      "1.17 s ± 2.54 ms per loop (mean ± std. dev. of 7 runs, 1 loop each)\n",
      "1.17 s ± 7.05 ms per loop (mean ± std. dev. of 7 runs, 1 loop each)\n",
      "1.17 s ± 12.4 ms per loop (mean ± std. dev. of 7 runs, 1 loop each)\n",
      "1.16 s ± 5.99 ms per loop (mean ± std. dev. of 7 runs, 1 loop each)\n",
      "1.17 s ± 26.4 ms per loop (mean ± std. dev. of 7 runs, 1 loop each)\n",
      "1.17 s ± 4.56 ms per loop (mean ± std. dev. of 7 runs, 1 loop each)\n",
      "1.17 s ± 16.1 ms per loop (mean ± std. dev. of 7 runs, 1 loop each)\n",
      "1.16 s ± 6.87 ms per loop (mean ± std. dev. of 7 runs, 1 loop each)\n",
      "1.18 s ± 20.5 ms per loop (mean ± std. dev. of 7 runs, 1 loop each)\n",
      "1.17 s ± 4.06 ms per loop (mean ± std. dev. of 7 runs, 1 loop each)\n",
      "1.17 s ± 10.3 ms per loop (mean ± std. dev. of 7 runs, 1 loop each)\n",
      "1.18 s ± 8.56 ms per loop (mean ± std. dev. of 7 runs, 1 loop each)\n",
      "1.18 s ± 7.87 ms per loop (mean ± std. dev. of 7 runs, 1 loop each)\n",
      "1.18 s ± 6.52 ms per loop (mean ± std. dev. of 7 runs, 1 loop each)\n",
      "1.18 s ± 10.2 ms per loop (mean ± std. dev. of 7 runs, 1 loop each)\n"
     ]
    }
   ],
   "source": [
    "# code for 2A\n",
    "batches = [i for i in range(1,129)]\n",
    "results_2A = []\n",
    "for batch in batches:\n",
    "    t = %timeit -o Parallel(n_jobs=4, batch_size=batch)(delayed(lambda combo : (combo, r_sq_regression(combo)))(combo) for combo in combos)\n",
    "    # %timeit -o np.array(r_sq_list, dtype=object)\n",
    "    # %timeit -o np.argmax(r_sq_arr[:,1])\n",
    "    results_2A.append(t.best)"
   ]
  },
  {
   "cell_type": "code",
   "execution_count": 82,
   "id": "f3b5cf1b-4914-4294-8077-844c16e8aabc",
   "metadata": {},
   "outputs": [
    {
     "data": {
      "image/png": "[encoded data removed]",
      "text/plain": [
       "<Figure size 576x432 with 1 Axes>"
      ]
     },
     "metadata": {
      "needs_background": "light"
     },
     "output_type": "display_data"
    }
   ],
   "source": [
    "%matplotlib inline\n",
    "# TODO plot for 2A\n",
    "plt.figure(figsize=(8,6))\n",
    "plt.plot(batches, results_2A, linewidth=3, label='Runtime w/ Batch Size from 1-128')\n",
    "plt.xlabel('Batch Size')\n",
    "plt.ylabel('Runtime')\n",
    "plt.legend()\n",
    "plt.show()"
   ]
  },
  {
   "cell_type": "code",
   "execution_count": 90,
   "id": "a3b23ce8-19a3-4505-9904-f042ec73745e",
   "metadata": {},
   "outputs": [
    {
     "data": {
      "image/png": "[encoded data removed]",
      "text/plain": [
       "<Figure size 576x432 with 1 Axes>"
      ]
     },
     "metadata": {
      "needs_background": "light"
     },
     "output_type": "display_data"
    },
    {
     "name": "stdout",
     "output_type": "stream",
     "text": [
      "Fixed cost range: [ 0.7432124580013624 1.0519186249989434 ]\n"
     ]
    }
   ],
   "source": [
    "# code for 2B\n",
    "'''''\n",
    "Calculation for 2B:\n",
    "By Amdahl's Law, in a perfect paralellism, \"p\", the portion of the parallel part, is 1.\n",
    "Therefore, S_latency = 1 / (1 - 1 + 1/s) = s, where \"s\", the speedup of the optimized part, is 4 with 4 cores.\n",
    "The time required for perfect paralellism is thus 1.58s/4 = 0.395s\n",
    "'''''\n",
    "batch_startup_cost = [ i - 0.395 for i in results_2A]\n",
    "plt.figure(figsize=(8,6))\n",
    "plt.plot(batches, batch_startup_cost, linewidth=3, label='Fixed Startup Cost w/ Batch Size from 1-128')\n",
    "plt.xlabel('Batch Size')\n",
    "plt.ylabel('Fixed Startup Cost')\n",
    "plt.legend()\n",
    "plt.show()\n",
    "print(\"Fixed cost range: [\", min(batch_startup_cost), max(batch_startup_cost), \"]\") "
   ]
  },
  {
   "cell_type": "markdown",
   "id": "9d662db6-2c99-45c2-a71b-a4482c454371",
   "metadata": {},
   "source": [
    "**TODO Answer for 2B**\n",
    "\n",
    "> Model Idea: T_total = T_overhead + T_computation, where T_overhead is the fixed cost for batch setup and T_computation is the perfectly paralleled execution\n",
    "\n",
    "> By Amdahl's Law, in a perfect paralellism, \"p\", the portion of the parallel part, is 1.\n",
    "Therefore, the total speedup $S_latency = 1 / (1 - 1 + 1/s) = s$, where \"s\", the speedup of the optimized part, is 4 with 4 cores.\n",
    "The time required for perfect paralellism is thus 1.58s/4 = 0.395s, and so the fixed startup cost should be the actual runtime subtracted by the idealistic runtime.\n",
    "\n",
    "> By calculation above, the range is [0.7432, 1.0519]\n",
    "\n",
    "> The high fixed cost might due to some inefficiency with M1 Chip."
   ]
  },
  {
   "cell_type": "markdown",
   "id": "31c116b8-5f85-4c9d-b4c7-fa6cde075dbf",
   "metadata": {},
   "source": [
    "**TODO Answer for 2C**\n",
    "> What do you think is a reasonable explanation for the inefficiency? \n",
    "> - Not enough jobs utilized as we saw earlier that we got a better speedup with more cores utilized (larger n_jobs).\n",
    "> - Also, inefficiency could be caused by the fix cost(overhead) of the jobs as we need to assign the data portion and task.\n",
    "\n",
    "> What factors are possible? \n",
    "> - Other than the possible reasons mentioned above, a possible factor could be the low percentage of paralelled portion. as seen on my machine, the Amdahl Number is only about 0.32.\n",
    "> - Please also see below\n",
    "\n",
    "\n",
    "> Which factors can you eliminate?\n",
    "> - Skew can be eliminated because the task difficulties are the same for every job, and therefore, the tasks should be all completed at around the same time, meaning that there should have not been too much time wasted on waiting for the other jobs to complete. *(However, it is also possible that when we are varying batch_size, the some job get assigned first while the others are waiting)*\n",
    "> - Interference can be eliminated because, though the jobs were sharing the \"combos\" array, there were no resource competition (no lock needed) as the jobs are simply accessing their own assigned portions of the array.\n"
   ]
  },
  {
   "cell_type": "markdown",
   "id": "57b3cb77-8d34-4eab-bc1a-09fd8266a07f",
   "metadata": {
    "tags": []
   },
   "source": [
    "3. Run the job with `prefer='threads'` and `prefer='processes'`. Given that `LinearRegression.fit()`. You do not need to vary batch size for this part.\n",
    "    1. Which is more efficient?  Why? Consider our discussion of parallel threads in python.\n",
    "    2. Can you conclude that `LinearRegression.fit()` does or does not release the GIL? Explain.\n",
    "\n",
    "_Note_: you can verify this conclusion by calling `LinearRegression.fit()` directly, rather than calling the wrapper functions `r_sq_regression`."
   ]
  },
  {
   "cell_type": "code",
   "execution_count": 24,
   "id": "192d3aed-d2c7-45c8-83bd-83462fdc24bb",
   "metadata": {},
   "outputs": [
    {
     "name": "stdout",
     "output_type": "stream",
     "text": [
      "4.15 s ± 167 ms per loop (mean ± std. dev. of 7 runs, 1 loop each)\n",
      "1.68 s ± 179 ms per loop (mean ± std. dev. of 7 runs, 1 loop each)\n",
      "Runtime for threads preference: 3.9995699580000235 s\n",
      "Runtime for processes preference: 1.420573499999989 s\n"
     ]
    }
   ],
   "source": [
    "# Code for 3\n",
    "t_th = %timeit -o Parallel(n_jobs=4, prefer='threads')(delayed(lambda combo : (combo, r_sq_regression(combo)))(combo) for combo in combos)\n",
    "t_pr = %timeit -o Parallel(n_jobs=4, prefer='processes')(delayed(lambda combo : (combo, r_sq_regression(combo)))(combo) for combo in combos)\n",
    "print('Runtime for threads preference:', t_th.best,'s')\n",
    "print('Runtime for processes preference:', t_pr.best,'s')\n"
   ]
  },
  {
   "cell_type": "markdown",
   "id": "3b831431-437f-48e8-b24c-3952a8ab2ebf",
   "metadata": {},
   "source": [
    "**TODO Answer to 3**"
   ]
  },
  {
   "cell_type": "markdown",
   "id": "f64f5c4d-66a4-48ca-90d4-4f64018a1e08",
   "metadata": {},
   "source": [
    "> Which is more efficient? Why? Consider our discussion of parallel threads in python.\n",
    "> - Processes preference is more efficient, because (cited from discussion in Lecture 2) concurrent programs are not necessarily run in parallel and running multiple threads in Python provides concurrency, but not parallelism, due to the nature of Global Interpreter Lock. To realize parallelism, one must use processes that create multiple seperate Python interpreters each with its own GIL.\n",
    "\n",
    "> Can you conclude that LinearRegression.fit() does or does not release the GIL? Explain.\n",
    "> - LinearRegression.fit() does not release the GIL, becuase, by comparing the runtimes of threads and processes above (processes create multiple GILs where threads shares 1 GIL), these concurrent threads ran like serially instead of in paralell, and thus LinearRegression.fit() must not have released the GIL (otherwise the two runtimes above would have been equal)."
   ]
  }
 ],
 "metadata": {
  "kernelspec": {
   "display_name": "Python 3.9.5 64-bit",
   "language": "python",
   "name": "python3"
  },
  "language_info": {
   "codemirror_mode": {
    "name": "ipython",
    "version": 3
   },
   "file_extension": ".py",
   "mimetype": "text/x-python",
   "name": "python",
   "nbconvert_exporter": "python",
   "pygments_lexer": "ipython3",
   "version": "3.9.12"
  },
  "vscode": {
   "interpreter": {
    "hash": "397704579725e15f5c7cb49fe5f0341eb7531c82d19f2c29d197e8b64ab5776b"
   }
  }
 },
 "nbformat": 4,
 "nbformat_minor": 5
}
